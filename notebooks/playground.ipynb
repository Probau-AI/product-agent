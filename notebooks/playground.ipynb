{
 "cells": [
  {
   "metadata": {
    "ExecuteTime": {
     "end_time": "2025-04-16T17:47:22.370210Z",
     "start_time": "2025-04-16T17:47:22.365292Z"
    }
   },
   "cell_type": "code",
   "source": [
    "# WRITE YOUR PROMPT HERE\n",
    "\n",
    "sentence = \"Show sofa named JENNY\""
   ],
   "id": "f438ed61f8fd1dab",
   "outputs": [],
   "execution_count": 2
  },
  {
   "metadata": {
    "ExecuteTime": {
     "end_time": "2025-04-16T17:47:22.450402Z",
     "start_time": "2025-04-16T17:47:22.389689Z"
    }
   },
   "cell_type": "code",
   "source": [
    "from urllib.parse import quote_plus\n",
    "from pydantic import BaseModel\n",
    "\n",
    "\n",
    "class Filters(BaseModel):\n",
    "    \"\"\"All units are in centimetres\"\"\"\n",
    "    width_min: int | None = None\n",
    "    width_max: int | None = None\n",
    "    depth_min: int | None = None\n",
    "    depth_max: int | None = None\n",
    "    height_min: int | None = None\n",
    "    height_max: int | None = None\n",
    "    product_name: str | None = None\n",
    "\n",
    "    first_cheapest: bool = False\n",
    "    color: str | None = None\n",
    "\n",
    "    @property\n",
    "    def is_product_search(self):\n",
    "        return self.product_name is not None\n",
    "\n",
    "    def to_query_params(self):\n",
    "        params = \"\"\n",
    "\n",
    "        if self.product_name:\n",
    "            params += f\"query={quote_plus(self.product_name)}&\"\n",
    "        if self.width_min:\n",
    "            params += f\"width.min={self.width_min}&\"\n",
    "        if self.width_max:\n",
    "            params += f\"width.max={self.width_max}&\"\n",
    "        if self.depth_min:\n",
    "            params += f\"depth.min={self.depth_min}&\"\n",
    "        if self.depth_max:\n",
    "            params += f\"depth.max={self.depth_max}&\"\n",
    "        if self.height_min:\n",
    "            params += f\"height.min={self.height_min}&\"\n",
    "        if self.height_max:\n",
    "            params += f\"height.max={self.height_max}&\"\n",
    "\n",
    "        if self.first_cheapest:\n",
    "            params += f\"order=PRICE_ASC&\"\n",
    "\n",
    "        if self.color:\n",
    "            params += f\"color={self.color}&\"\n",
    "\n",
    "        return params"
   ],
   "id": "5350e29b0b13c4e1",
   "outputs": [],
   "execution_count": 3
  },
  {
   "metadata": {
    "ExecuteTime": {
     "end_time": "2025-04-16T17:47:25.922439Z",
     "start_time": "2025-04-16T17:47:22.455755Z"
    }
   },
   "cell_type": "code",
   "source": [
    "import os\n",
    "from openai import OpenAI\n",
    "\n",
    "from dotenv import load_dotenv\n",
    "\n",
    "\n",
    "load_dotenv()\n",
    "\n",
    "\n",
    "client = OpenAI(\n",
    "  base_url=\"https://openrouter.ai/api/v1\",\n",
    "  api_key=os.getenv(\"OPENROUTER_KEY\"),\n",
    ")\n",
    "\n",
    "\n",
    "completion = client.beta.chat.completions.parse(\n",
    "    model=\"google/gemini-flash-1.5\",\n",
    "    messages=[\n",
    "        {\n",
    "            \"role\": \"system\",\n",
    "            \"content\": \"Extract parameters from the users sentence. Convert units to cm. integers and put into output. \"\n",
    "                       \"Leave fields as None if not specified. If user includes some product name, brand also include category in product_name\"\n",
    "                       \"Like if it asks 'Give me sofas names JENNY', then product_name must be 'sofas JENNY'\"\n",
    "        },\n",
    "        {\"role\": \"user\", \"content\": sentence},\n",
    "    ],\n",
    "    response_format=Filters,\n",
    ")\n",
    "\n",
    "\n",
    "filters = completion.choices[0].message.parsed\n"
   ],
   "id": "83346b4f868048",
   "outputs": [],
   "execution_count": 4
  },
  {
   "metadata": {
    "ExecuteTime": {
     "end_time": "2025-04-16T17:47:25.931406Z",
     "start_time": "2025-04-16T17:47:25.928942Z"
    }
   },
   "cell_type": "code",
   "source": [
    "print(completion.choices)\n",
    "print(filters.to_query_params())"
   ],
   "id": "2a6390eb3956a47b",
   "outputs": [
    {
     "name": "stdout",
     "output_type": "stream",
     "text": [
      "[ParsedChoice[Filters](finish_reason='stop', index=0, logprobs=None, message=ParsedChatCompletionMessage[Filters](content='{\"color\": null, \"depth_max\": null, \"depth_min\": null, \"first_cheapest\": true, \"height_max\": null, \"height_min\": null, \"product_name\": \"sofa JENNY\", \"width_max\": null, \"width_min\": null}', refusal=None, role='assistant', annotations=None, audio=None, function_call=None, tool_calls=None, parsed=Filters(width_min=None, width_max=None, depth_min=None, depth_max=None, height_min=None, height_max=None, product_name='sofa JENNY', first_cheapest=True, color=None), reasoning=None), native_finish_reason='STOP')]\n",
      "query=sofa+JENNY&order=PRICE_ASC&\n"
     ]
    }
   ],
   "execution_count": 5
  },
  {
   "metadata": {
    "ExecuteTime": {
     "end_time": "2025-04-16T17:47:28.383739Z",
     "start_time": "2025-04-16T17:47:25.976149Z"
    }
   },
   "cell_type": "code",
   "source": [
    "\n",
    "import json\n",
    "from app.constants import HEADERS\n",
    "\n",
    "\n",
    "limit = 10\n",
    "offset = 0\n",
    "\n",
    "\n",
    "category_to_id = {\n",
    "    \"sofa-couch\": \"156318\",\n",
    "    \"kueche-moebel\": \"156182\",\n",
    "    \"innenleuchte\": \"177561\"\n",
    "}\n",
    "\n",
    "variables = {\n",
    "  # \"urlParams\": filters.to_query_params(),\n",
    "  \"urlParams\": \"query=sofas+JENNY&\",\n",
    "  \"locale\": \"de_DE\",\n",
    "  \"first\": limit,\n",
    "  \"offset\": offset,\n",
    "  \"format\": \"WEBP\",\n",
    "}\n",
    "\n",
    "if not filters.is_product_search:\n",
    "    variables[\"id\"] = category_to_id[\"sofa-couch\"]\n",
    "\n",
    "if filters.is_product_search:\n",
    "    variables[\"query\"] = filters.product_name\n",
    "\n",
    "CATEGORY_SEARCH_HASH = \"80021581f9cced0ece4065bd9c99d50a4e8cdfe749ab57cea87ef0a549bfb7b7\"\n",
    "PRODUCT_SEARCH_HASH = \"49a969c017878e1a0bf0c6db3b8cc470fe096fb20dbe8dbba75130de498bfb94\"\n",
    "\n",
    "extensions = {\n",
    "  \"persistedQuery\": {\n",
    "    \"version\": 1,\n",
    "    \"sha256Hash\": PRODUCT_SEARCH_HASH if filters.is_product_search else CATEGORY_SEARCH_HASH,\n",
    "  }\n",
    "}\n",
    "\n",
    "compact_variables = json.dumps(variables, separators=(',', ':'))\n",
    "compact_extensions = json.dumps(extensions, separators=(',', ':'))\n",
    "\n",
    "\n",
    "import requests\n",
    "from urllib.parse import quote\n",
    "\n",
    "BASE_URL = \"https://www.home24.de\"\n",
    "url = f\"{BASE_URL}/graphql?extensions={quote(compact_extensions)}&variables={quote(compact_variables)}\"\n",
    "\n",
    "\n",
    "response = requests.get(url,headers=HEADERS,)\n",
    "\n",
    "print(response.status_code)\n",
    "\n"
   ],
   "id": "933b4b4e9333052",
   "outputs": [
    {
     "name": "stdout",
     "output_type": "stream",
     "text": [
      "200\n"
     ]
    }
   ],
   "execution_count": 6
  },
  {
   "metadata": {
    "ExecuteTime": {
     "end_time": "2025-04-16T17:47:28.398540Z",
     "start_time": "2025-04-16T17:47:28.395709Z"
    }
   },
   "cell_type": "code",
   "source": [
    "print(variables)\n",
    "print(extensions)"
   ],
   "id": "25e5bfb12fc46da0",
   "outputs": [
    {
     "name": "stdout",
     "output_type": "stream",
     "text": [
      "{'urlParams': 'query=sofas+JENNY&', 'locale': 'de_DE', 'first': 10, 'offset': 0, 'format': 'WEBP', 'query': 'sofa JENNY'}\n",
      "{'persistedQuery': {'version': 1, 'sha256Hash': '49a969c017878e1a0bf0c6db3b8cc470fe096fb20dbe8dbba75130de498bfb94'}}\n"
     ]
    }
   ],
   "execution_count": 7
  },
  {
   "metadata": {
    "ExecuteTime": {
     "end_time": "2025-04-16T17:47:28.452442Z",
     "start_time": "2025-04-16T17:47:28.447361Z"
    }
   },
   "cell_type": "code",
   "source": [
    "from pydantic import BaseModel\n",
    "\n",
    "\n",
    "class Dimensions(BaseModel):\n",
    "    width: int\n",
    "    height: int\n",
    "    depth: int\n",
    "\n",
    "\n",
    "class Product(BaseModel):\n",
    "    title: str\n",
    "    price: float\n",
    "    image_url: str\n",
    "    dimensions: Dimensions | None = None\n",
    "    url: str\n",
    "\n",
    "products = []\n",
    "\n",
    "def extract_list(data):\n",
    "    if filters.is_product_search:\n",
    "        return data[\"data\"][\"categories\"][\"articles\"]\n",
    "    else:\n",
    "        return data[\"data\"][\"categories\"][0][\"categoryArticles\"][\"articles\"]\n",
    "\n",
    "json_data = response.json()\n",
    "for product in extract_list(json_data):\n",
    "    product_obj = Product(\n",
    "        title=product[\"name\"],\n",
    "        price=product[\"prices\"][\"regular\"][\"value\"],\n",
    "        image_url=product[\"images\"][0][\"path\"],\n",
    "        url=BASE_URL + \"/\" + product[\"url\"],\n",
    "    )\n",
    "    products.append(product_obj)\n"
   ],
   "id": "bb19e811eda8eb05",
   "outputs": [],
   "execution_count": 8
  },
  {
   "metadata": {
    "ExecuteTime": {
     "end_time": "2025-04-16T17:47:34.030474Z",
     "start_time": "2025-04-16T17:47:34.021635Z"
    }
   },
   "cell_type": "code",
   "source": [
    "import pandas as pd\n",
    "\n",
    "df = pd.DataFrame([p.__dict__ for p in products])\n",
    "df"
   ],
   "id": "4b6004518570946d",
   "outputs": [
    {
     "data": {
      "text/plain": [
       "                            title     price  \\\n",
       "0         Sofa JENNY 3 Sitzplätze   99900.0   \n",
       "1         Sofa JENNY 3 Sitzplätze   99900.0   \n",
       "2         Sofa JENNY 4 Sitzplätze  117900.0   \n",
       "3         Sofa JENNY 4 Sitzplätze  119900.0   \n",
       "4           3-Sitzer Sofa CHARLIE   79900.0   \n",
       "5  Esszimmerstuhl Jenny (2er Set)   12000.0   \n",
       "6        Cord Sofa 2 sitzer Rouen   56999.0   \n",
       "7         Sofa L Form James 38767   99990.0   \n",
       "8            Esszimmerstuhl JENNY   10999.0   \n",
       "9                    Sessel JENNY   58900.0   \n",
       "\n",
       "                                           image_url dimensions  \\\n",
       "0  https://cdn1.home24.net/images/media/catalog/p...       None   \n",
       "1  https://cdn1.home24.net/images/media/catalog/p...       None   \n",
       "2  https://cdn1.home24.net/images/media/catalog/p...       None   \n",
       "3  https://cdn1.home24.net/images/media/catalog/p...       None   \n",
       "4  https://cdn1.home24.net/images/media/catalog/p...       None   \n",
       "5  https://cdn1.home24.net/images/media/catalog/p...       None   \n",
       "6  https://cdn1.home24.net/images/media/catalog/p...       None   \n",
       "7  https://cdn1.home24.net/images/media/catalog/p...       None   \n",
       "8  https://cdn1.home24.net/images/media/catalog/p...       None   \n",
       "9  https://cdn1.home24.net/images/media/catalog/p...       None   \n",
       "\n",
       "                                                 url  \n",
       "0  https://www.home24.de/produkt/sofa-jenny-3-sit...  \n",
       "1  https://www.home24.de/produkt/sofa-jenny-3-sit...  \n",
       "2  https://www.home24.de/produkt/sofa-jenny-4-sit...  \n",
       "3  https://www.home24.de/produkt/sofa-jenny-4-sit...  \n",
       "4  https://www.home24.de/produkt/3-sitzer-sofa-ch...  \n",
       "5  https://www.home24.de/produkt/esszimmerstuhl-j...  \n",
       "6  https://www.home24.de/produkt/cord-sofa-2-sitz...  \n",
       "7  https://www.home24.de/produkt/sofa-l-form-jame...  \n",
       "8  https://www.home24.de/produkt/esszimmerstuhl-j...  \n",
       "9  https://www.home24.de/produkt/sessel-jenny-hel...  "
      ],
      "text/html": [
       "<div>\n",
       "<style scoped>\n",
       "    .dataframe tbody tr th:only-of-type {\n",
       "        vertical-align: middle;\n",
       "    }\n",
       "\n",
       "    .dataframe tbody tr th {\n",
       "        vertical-align: top;\n",
       "    }\n",
       "\n",
       "    .dataframe thead th {\n",
       "        text-align: right;\n",
       "    }\n",
       "</style>\n",
       "<table border=\"1\" class=\"dataframe\">\n",
       "  <thead>\n",
       "    <tr style=\"text-align: right;\">\n",
       "      <th></th>\n",
       "      <th>title</th>\n",
       "      <th>price</th>\n",
       "      <th>image_url</th>\n",
       "      <th>dimensions</th>\n",
       "      <th>url</th>\n",
       "    </tr>\n",
       "  </thead>\n",
       "  <tbody>\n",
       "    <tr>\n",
       "      <th>0</th>\n",
       "      <td>Sofa JENNY 3 Sitzplätze</td>\n",
       "      <td>99900.0</td>\n",
       "      <td>https://cdn1.home24.net/images/media/catalog/p...</td>\n",
       "      <td>None</td>\n",
       "      <td>https://www.home24.de/produkt/sofa-jenny-3-sit...</td>\n",
       "    </tr>\n",
       "    <tr>\n",
       "      <th>1</th>\n",
       "      <td>Sofa JENNY 3 Sitzplätze</td>\n",
       "      <td>99900.0</td>\n",
       "      <td>https://cdn1.home24.net/images/media/catalog/p...</td>\n",
       "      <td>None</td>\n",
       "      <td>https://www.home24.de/produkt/sofa-jenny-3-sit...</td>\n",
       "    </tr>\n",
       "    <tr>\n",
       "      <th>2</th>\n",
       "      <td>Sofa JENNY 4 Sitzplätze</td>\n",
       "      <td>117900.0</td>\n",
       "      <td>https://cdn1.home24.net/images/media/catalog/p...</td>\n",
       "      <td>None</td>\n",
       "      <td>https://www.home24.de/produkt/sofa-jenny-4-sit...</td>\n",
       "    </tr>\n",
       "    <tr>\n",
       "      <th>3</th>\n",
       "      <td>Sofa JENNY 4 Sitzplätze</td>\n",
       "      <td>119900.0</td>\n",
       "      <td>https://cdn1.home24.net/images/media/catalog/p...</td>\n",
       "      <td>None</td>\n",
       "      <td>https://www.home24.de/produkt/sofa-jenny-4-sit...</td>\n",
       "    </tr>\n",
       "    <tr>\n",
       "      <th>4</th>\n",
       "      <td>3-Sitzer Sofa CHARLIE</td>\n",
       "      <td>79900.0</td>\n",
       "      <td>https://cdn1.home24.net/images/media/catalog/p...</td>\n",
       "      <td>None</td>\n",
       "      <td>https://www.home24.de/produkt/3-sitzer-sofa-ch...</td>\n",
       "    </tr>\n",
       "    <tr>\n",
       "      <th>5</th>\n",
       "      <td>Esszimmerstuhl Jenny (2er Set)</td>\n",
       "      <td>12000.0</td>\n",
       "      <td>https://cdn1.home24.net/images/media/catalog/p...</td>\n",
       "      <td>None</td>\n",
       "      <td>https://www.home24.de/produkt/esszimmerstuhl-j...</td>\n",
       "    </tr>\n",
       "    <tr>\n",
       "      <th>6</th>\n",
       "      <td>Cord Sofa 2 sitzer Rouen</td>\n",
       "      <td>56999.0</td>\n",
       "      <td>https://cdn1.home24.net/images/media/catalog/p...</td>\n",
       "      <td>None</td>\n",
       "      <td>https://www.home24.de/produkt/cord-sofa-2-sitz...</td>\n",
       "    </tr>\n",
       "    <tr>\n",
       "      <th>7</th>\n",
       "      <td>Sofa L Form James 38767</td>\n",
       "      <td>99990.0</td>\n",
       "      <td>https://cdn1.home24.net/images/media/catalog/p...</td>\n",
       "      <td>None</td>\n",
       "      <td>https://www.home24.de/produkt/sofa-l-form-jame...</td>\n",
       "    </tr>\n",
       "    <tr>\n",
       "      <th>8</th>\n",
       "      <td>Esszimmerstuhl JENNY</td>\n",
       "      <td>10999.0</td>\n",
       "      <td>https://cdn1.home24.net/images/media/catalog/p...</td>\n",
       "      <td>None</td>\n",
       "      <td>https://www.home24.de/produkt/esszimmerstuhl-j...</td>\n",
       "    </tr>\n",
       "    <tr>\n",
       "      <th>9</th>\n",
       "      <td>Sessel JENNY</td>\n",
       "      <td>58900.0</td>\n",
       "      <td>https://cdn1.home24.net/images/media/catalog/p...</td>\n",
       "      <td>None</td>\n",
       "      <td>https://www.home24.de/produkt/sessel-jenny-hel...</td>\n",
       "    </tr>\n",
       "  </tbody>\n",
       "</table>\n",
       "</div>"
      ]
     },
     "execution_count": 10,
     "metadata": {},
     "output_type": "execute_result"
    }
   ],
   "execution_count": 10
  },
  {
   "metadata": {
    "ExecuteTime": {
     "end_time": "2025-04-16T17:47:28.774502Z",
     "start_time": "2025-04-16T17:47:28.773138Z"
    }
   },
   "cell_type": "code",
   "source": "\"bamboo\", \"engineeredWood\", \"metal\", \"naturalfiber\", \"other\", \"plastic\", \"realleather\", \"solidwood\", \"syntheticFur\", \"syntheticleather\", \"textile\", \"woodsemisolid\"",
   "id": "e8547950c4a319b7",
   "outputs": [],
   "execution_count": null
  }
 ],
 "metadata": {
  "kernelspec": {
   "display_name": "Python 3",
   "language": "python",
   "name": "python3"
  },
  "language_info": {
   "codemirror_mode": {
    "name": "ipython",
    "version": 2
   },
   "file_extension": ".py",
   "mimetype": "text/x-python",
   "name": "python",
   "nbconvert_exporter": "python",
   "pygments_lexer": "ipython2",
   "version": "2.7.6"
  }
 },
 "nbformat": 4,
 "nbformat_minor": 5
}

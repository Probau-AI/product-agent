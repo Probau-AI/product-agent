{
 "cells": [
  {
   "metadata": {},
   "cell_type": "code",
   "source": [
    "import os\n",
    "\n",
    "import aiohttp\n",
    "\n",
    "from app.extractions import extract_color_and_material\n",
    "\n",
    "url = \"https://www.home24.de/produkt/sofa-jenny-3-sitzplaetze-beige-chenille-90-x-73-x-178-cm\"\n",
    "\n",
    "\n",
    "html = None\n",
    "\n",
    "async with aiohttp.ClientSession(headers=HEADERS) as session:\n",
    "    async with session.get(url) as response:\n",
    "        if response.status != 200:\n",
    "            print(\"error\", response.status)\n",
    "            html = await response.read()\n",
    "\n",
    "        else:\n",
    "            print(\"success\")\n",
    "            html = await response.read()\n",
    "\n",
    "print(html)\n"
   ],
   "id": "31ecfaa5ff5a0991",
   "outputs": [],
   "execution_count": null
  },
  {
   "metadata": {
    "ExecuteTime": {
     "end_time": "2025-04-30T15:09:49.938330Z",
     "start_time": "2025-04-30T15:09:49.907574Z"
    }
   },
   "cell_type": "code",
   "source": [
    "\n",
    "\n",
    "res = extract_color_and_material(html)\n",
    "\n",
    "print(res)"
   ],
   "id": "5da03195e10bb0d5",
   "outputs": [
    {
     "name": "stdout",
     "output_type": "stream",
     "text": [
      "{'material': None, 'color': None}\n"
     ]
    }
   ],
   "execution_count": 6
  },
  {
   "metadata": {
    "ExecuteTime": {
     "end_time": "2025-04-30T16:44:10.347966Z",
     "start_time": "2025-04-30T16:44:03.051713Z"
    }
   },
   "cell_type": "code",
   "source": [
    "from app.extractions import get_product_list\n",
    "from app.models import Filters\n",
    "\n",
    "filters = Filters(sort_by_popularity=True)\n",
    "\n",
    "print(\"fetching and extracting...\")\n",
    "products = await get_product_list(filters=filters)\n",
    "\n",
    "print(\"done\")\n",
    "import pandas as pd\n",
    "\n",
    "df = pd.DataFrame([p.__dict__ for p in products])\n",
    "df\n"
   ],
   "id": "bf1de5d5a102089",
   "outputs": [
    {
     "name": "stdout",
     "output_type": "stream",
     "text": [
      "fetching and extracting...\n",
      "done\n"
     ]
    },
    {
     "data": {
      "text/plain": [
       "                                      name  \\\n",
       "0    Ecksofa HUDSON 3-Sitzer mit Longchair   \n",
       "1       Ecksofa mit Schlaffunktion BEST XL   \n",
       "2                    Wohnlandschaft HUDSON   \n",
       "3                    GUSTAVO Sofa 3-Sitzer   \n",
       "4                       Ecksofa FARESE NEW   \n",
       "5                           Ecksofa Modena   \n",
       "6  Ecksofa HUDSON 1,5-Sitzer mit Longchair   \n",
       "7    Ecksofa HUDSON 3-Sitzer mit Recamiere   \n",
       "8                       Ecksofa FORT DODGE   \n",
       "9                        Ecksofa Karl Cord   \n",
       "\n",
       "                                           image_url  price_eur  \\\n",
       "0  https://cdn1.home24.net/images/media/catalog/p...    1699.99   \n",
       "1  https://cdn1.home24.net/images/media/catalog/p...     699.00   \n",
       "2  https://cdn1.home24.net/images/media/catalog/p...    2699.99   \n",
       "3  https://cdn1.home24.net/images/media/catalog/p...     699.00   \n",
       "4  https://cdn1.home24.net/images/media/catalog/p...     949.99   \n",
       "5  https://cdn1.home24.net/images/media/catalog/p...     759.00   \n",
       "6  https://cdn1.home24.net/images/media/catalog/p...    1599.99   \n",
       "7  https://cdn1.home24.net/images/media/catalog/p...    1899.99   \n",
       "8  https://cdn1.home24.net/images/media/catalog/p...    1099.99   \n",
       "9  https://cdn1.home24.net/images/media/catalog/p...     479.00   \n",
       "\n",
       "                                         product_url  \\\n",
       "0  https://www.home24.de/produkt/ecksofa-hudson-3...   \n",
       "1  https://www.home24.de/produkt/ecksofa-mit-schl...   \n",
       "2  https://www.home24.de/produkt/wohnlandschaft-h...   \n",
       "3  https://www.home24.de/produkt/gustavo-sofa-3-s...   \n",
       "4  https://www.home24.de/produkt/ecksofa-farese-n...   \n",
       "5  https://www.home24.de/produkt/ecksofa-modena-b...   \n",
       "6  https://www.home24.de/produkt/ecksofa-hudson-1...   \n",
       "7  https://www.home24.de/produkt/ecksofa-hudson-3...   \n",
       "8  https://www.home24.de/produkt/ecksofa-fort-dod...   \n",
       "9  https://www.home24.de/produkt/ecksofa-karl-cor...   \n",
       "\n",
       "                      dimensions  \n",
       "0  width=251 height=71 depth=173  \n",
       "1  width=142 height=83 depth=274  \n",
       "2  width=325 height=71 depth=235  \n",
       "3   width=230 height=98 depth=98  \n",
       "4  width=267 height=85 depth=123  \n",
       "5  width=165 height=78 depth=236  \n",
       "6  width=260 height=71 depth=173  \n",
       "7  width=295 height=71 depth=231  \n",
       "8  width=236 height=81 depth=164  \n",
       "9  width=244 height=82 depth=145  "
      ],
      "text/html": [
       "<div>\n",
       "<style scoped>\n",
       "    .dataframe tbody tr th:only-of-type {\n",
       "        vertical-align: middle;\n",
       "    }\n",
       "\n",
       "    .dataframe tbody tr th {\n",
       "        vertical-align: top;\n",
       "    }\n",
       "\n",
       "    .dataframe thead th {\n",
       "        text-align: right;\n",
       "    }\n",
       "</style>\n",
       "<table border=\"1\" class=\"dataframe\">\n",
       "  <thead>\n",
       "    <tr style=\"text-align: right;\">\n",
       "      <th></th>\n",
       "      <th>name</th>\n",
       "      <th>image_url</th>\n",
       "      <th>price_eur</th>\n",
       "      <th>product_url</th>\n",
       "      <th>dimensions</th>\n",
       "    </tr>\n",
       "  </thead>\n",
       "  <tbody>\n",
       "    <tr>\n",
       "      <th>0</th>\n",
       "      <td>Ecksofa HUDSON 3-Sitzer mit Longchair</td>\n",
       "      <td>https://cdn1.home24.net/images/media/catalog/p...</td>\n",
       "      <td>1699.99</td>\n",
       "      <td>https://www.home24.de/produkt/ecksofa-hudson-3...</td>\n",
       "      <td>width=251 height=71 depth=173</td>\n",
       "    </tr>\n",
       "    <tr>\n",
       "      <th>1</th>\n",
       "      <td>Ecksofa mit Schlaffunktion BEST XL</td>\n",
       "      <td>https://cdn1.home24.net/images/media/catalog/p...</td>\n",
       "      <td>699.00</td>\n",
       "      <td>https://www.home24.de/produkt/ecksofa-mit-schl...</td>\n",
       "      <td>width=142 height=83 depth=274</td>\n",
       "    </tr>\n",
       "    <tr>\n",
       "      <th>2</th>\n",
       "      <td>Wohnlandschaft HUDSON</td>\n",
       "      <td>https://cdn1.home24.net/images/media/catalog/p...</td>\n",
       "      <td>2699.99</td>\n",
       "      <td>https://www.home24.de/produkt/wohnlandschaft-h...</td>\n",
       "      <td>width=325 height=71 depth=235</td>\n",
       "    </tr>\n",
       "    <tr>\n",
       "      <th>3</th>\n",
       "      <td>GUSTAVO Sofa 3-Sitzer</td>\n",
       "      <td>https://cdn1.home24.net/images/media/catalog/p...</td>\n",
       "      <td>699.00</td>\n",
       "      <td>https://www.home24.de/produkt/gustavo-sofa-3-s...</td>\n",
       "      <td>width=230 height=98 depth=98</td>\n",
       "    </tr>\n",
       "    <tr>\n",
       "      <th>4</th>\n",
       "      <td>Ecksofa FARESE NEW</td>\n",
       "      <td>https://cdn1.home24.net/images/media/catalog/p...</td>\n",
       "      <td>949.99</td>\n",
       "      <td>https://www.home24.de/produkt/ecksofa-farese-n...</td>\n",
       "      <td>width=267 height=85 depth=123</td>\n",
       "    </tr>\n",
       "    <tr>\n",
       "      <th>5</th>\n",
       "      <td>Ecksofa Modena</td>\n",
       "      <td>https://cdn1.home24.net/images/media/catalog/p...</td>\n",
       "      <td>759.00</td>\n",
       "      <td>https://www.home24.de/produkt/ecksofa-modena-b...</td>\n",
       "      <td>width=165 height=78 depth=236</td>\n",
       "    </tr>\n",
       "    <tr>\n",
       "      <th>6</th>\n",
       "      <td>Ecksofa HUDSON 1,5-Sitzer mit Longchair</td>\n",
       "      <td>https://cdn1.home24.net/images/media/catalog/p...</td>\n",
       "      <td>1599.99</td>\n",
       "      <td>https://www.home24.de/produkt/ecksofa-hudson-1...</td>\n",
       "      <td>width=260 height=71 depth=173</td>\n",
       "    </tr>\n",
       "    <tr>\n",
       "      <th>7</th>\n",
       "      <td>Ecksofa HUDSON 3-Sitzer mit Recamiere</td>\n",
       "      <td>https://cdn1.home24.net/images/media/catalog/p...</td>\n",
       "      <td>1899.99</td>\n",
       "      <td>https://www.home24.de/produkt/ecksofa-hudson-3...</td>\n",
       "      <td>width=295 height=71 depth=231</td>\n",
       "    </tr>\n",
       "    <tr>\n",
       "      <th>8</th>\n",
       "      <td>Ecksofa FORT DODGE</td>\n",
       "      <td>https://cdn1.home24.net/images/media/catalog/p...</td>\n",
       "      <td>1099.99</td>\n",
       "      <td>https://www.home24.de/produkt/ecksofa-fort-dod...</td>\n",
       "      <td>width=236 height=81 depth=164</td>\n",
       "    </tr>\n",
       "    <tr>\n",
       "      <th>9</th>\n",
       "      <td>Ecksofa Karl Cord</td>\n",
       "      <td>https://cdn1.home24.net/images/media/catalog/p...</td>\n",
       "      <td>479.00</td>\n",
       "      <td>https://www.home24.de/produkt/ecksofa-karl-cor...</td>\n",
       "      <td>width=244 height=82 depth=145</td>\n",
       "    </tr>\n",
       "  </tbody>\n",
       "</table>\n",
       "</div>"
      ]
     },
     "execution_count": 7,
     "metadata": {},
     "output_type": "execute_result"
    }
   ],
   "execution_count": 7
  },
  {
   "metadata": {
    "ExecuteTime": {
     "end_time": "2025-04-30T16:44:50.358445Z",
     "start_time": "2025-04-30T16:44:50.270663Z"
    }
   },
   "cell_type": "code",
   "source": "products[0].brand",
   "id": "e71294807a7dfdfc",
   "outputs": [
    {
     "ename": "AttributeError",
     "evalue": "'Product' object has no attribute 'brand'",
     "output_type": "error",
     "traceback": [
      "\u001B[31m---------------------------------------------------------------------------\u001B[39m",
      "\u001B[31mAttributeError\u001B[39m                            Traceback (most recent call last)",
      "\u001B[36mCell\u001B[39m\u001B[36m \u001B[39m\u001B[32mIn[8]\u001B[39m\u001B[32m, line 1\u001B[39m\n\u001B[32m----> \u001B[39m\u001B[32m1\u001B[39m \u001B[43mproducts\u001B[49m\u001B[43m[\u001B[49m\u001B[32;43m0\u001B[39;49m\u001B[43m]\u001B[49m\u001B[43m.\u001B[49m\u001B[43mbrand\u001B[49m\n",
      "\u001B[36mFile \u001B[39m\u001B[32m~/projects/product-agent/.venv/lib/python3.12/site-packages/pydantic/main.py:994\u001B[39m, in \u001B[36mBaseModel.__getattr__\u001B[39m\u001B[34m(self, item)\u001B[39m\n\u001B[32m    991\u001B[39m     \u001B[38;5;28;01mreturn\u001B[39;00m \u001B[38;5;28msuper\u001B[39m().\u001B[34m__getattribute__\u001B[39m(item)  \u001B[38;5;66;03m# Raises AttributeError if appropriate\u001B[39;00m\n\u001B[32m    992\u001B[39m \u001B[38;5;28;01melse\u001B[39;00m:\n\u001B[32m    993\u001B[39m     \u001B[38;5;66;03m# this is the current error\u001B[39;00m\n\u001B[32m--> \u001B[39m\u001B[32m994\u001B[39m     \u001B[38;5;28;01mraise\u001B[39;00m \u001B[38;5;167;01mAttributeError\u001B[39;00m(\u001B[33mf\u001B[39m\u001B[33m'\u001B[39m\u001B[38;5;132;01m{\u001B[39;00m\u001B[38;5;28mtype\u001B[39m(\u001B[38;5;28mself\u001B[39m).\u001B[34m__name__\u001B[39m\u001B[38;5;132;01m!r}\u001B[39;00m\u001B[33m object has no attribute \u001B[39m\u001B[38;5;132;01m{\u001B[39;00mitem\u001B[38;5;132;01m!r}\u001B[39;00m\u001B[33m'\u001B[39m)\n",
      "\u001B[31mAttributeError\u001B[39m: 'Product' object has no attribute 'brand'"
     ]
    }
   ],
   "execution_count": 8
  },
  {
   "metadata": {
    "ExecuteTime": {
     "end_time": "2025-04-30T16:44:59.734595Z",
     "start_time": "2025-04-30T16:44:59.731636Z"
    }
   },
   "cell_type": "code",
   "source": "products[0]\n",
   "id": "7c2f5575f755e5ed",
   "outputs": [
    {
     "data": {
      "text/plain": [
       "Product(name='Ecksofa HUDSON 3-Sitzer mit Longchair', image_url='https://cdn1.home24.net/images/media/catalog/product/original/png/-/1/-1000009771-201102-08125600129-IMAGE-P000000001000009771.webp', price_eur=1699.99, product_url='https://www.home24.de/produkt/ecksofa-hudson-3-sitzer-mit-longchair-webstoff-saia-beige-breite-251-cm-longchair-davorstehend-rechts', dimensions=Dimensions(width=251, height=71, depth=173))"
      ]
     },
     "execution_count": 9,
     "metadata": {},
     "output_type": "execute_result"
    }
   ],
   "execution_count": 9
  },
  {
   "metadata": {},
   "cell_type": "code",
   "outputs": [],
   "execution_count": null,
   "source": "",
   "id": "2e8ca5b6a9ab8169"
  }
 ],
 "metadata": {
  "kernelspec": {
   "display_name": "Python 3",
   "language": "python",
   "name": "python3"
  },
  "language_info": {
   "codemirror_mode": {
    "name": "ipython",
    "version": 2
   },
   "file_extension": ".py",
   "mimetype": "text/x-python",
   "name": "python",
   "nbconvert_exporter": "python",
   "pygments_lexer": "ipython2",
   "version": "2.7.6"
  }
 },
 "nbformat": 4,
 "nbformat_minor": 5
}

{
 "cells": [
  {
   "cell_type": "code",
   "id": "initial_id",
   "metadata": {
    "collapsed": true,
    "ExecuteTime": {
     "end_time": "2025-04-17T06:59:20.448570Z",
     "start_time": "2025-04-17T06:59:18.506830Z"
    }
   },
   "source": [
    "import json\n",
    "from app.constants import HEADERS, CATEGORY_SEARCH_HASH\n",
    "from app.constants import PRODUCT_SEARCH_HASH\n",
    "\n",
    "category_to_id = {\n",
    "    \"sofa-couch\": \"156318\",\n",
    "    \"kueche-moebel\": \"156182\",\n",
    "    \"innenleuchte\": \"177561\"\n",
    "}\n",
    "\n",
    "variables = {\n",
    "    \"urlParams\":\"width.max=140&pattern=flowered&order=price_asc&color=white&\",\n",
    "    \"locale\":\"de_DE\",\n",
    "    \"first\":10,\n",
    "    \"offset\":0,\n",
    "    \"format\":\"WEBP\",\n",
    "    \"id\":\"156318\"\n",
    "}\n",
    "\n",
    "\n",
    "extensions = {\n",
    "  \"persistedQuery\": {\n",
    "    \"version\": 1,\n",
    "    \"sha256Hash\": CATEGORY_SEARCH_HASH,\n",
    "  }\n",
    "}\n",
    "\n",
    "compact_variables = json.dumps(variables, separators=(',', ':'))\n",
    "compact_extensions = json.dumps(extensions, separators=(',', ':'))\n",
    "\n",
    "\n",
    "import requests\n",
    "from urllib.parse import quote\n",
    "\n",
    "BASE_URL = \"https://www.home24.de\"\n",
    "url = f\"{BASE_URL}/graphql?extensions={quote(compact_extensions)}&variables={quote(compact_variables)}\"\n",
    "\n",
    "\n",
    "response = requests.get(url,headers=HEADERS,)\n",
    "\n",
    "print(response.status_code)"
   ],
   "outputs": [
    {
     "name": "stdout",
     "output_type": "stream",
     "text": [
      "400\n"
     ]
    }
   ],
   "execution_count": 2
  },
  {
   "metadata": {
    "ExecuteTime": {
     "end_time": "2025-04-17T06:59:28.111883Z",
     "start_time": "2025-04-17T06:59:28.109310Z"
    }
   },
   "cell_type": "code",
   "source": "print(response.json())",
   "id": "9d14a8f0566dcded",
   "outputs": [
    {
     "name": "stdout",
     "output_type": "stream",
     "text": [
      "{'errors': [{'message': 'must be defined', 'path': ['variable', 'backend'], 'extensions': {'code': 'GRAPHQL_VALIDATION_FAILED'}}], 'data': None, 'extensions': {'lexicon': {'Mu': {}, 'Words': {}}}}\n"
     ]
    }
   ],
   "execution_count": 3
  },
  {
   "metadata": {
    "ExecuteTime": {
     "end_time": "2025-04-16T17:09:53.704658Z",
     "start_time": "2025-04-16T17:09:53.696449Z"
    }
   },
   "cell_type": "code",
   "source": [
    "\n",
    "#pprint(response.json()[\"data\"][\"categories\"][\"articles\"])\n",
    "\n",
    "for article in response.json()[\"data\"][\"categories\"][\"articles\"]:\n",
    "    print(article[\"name\"])"
   ],
   "id": "aff945ee998ace43",
   "outputs": [
    {
     "name": "stdout",
     "output_type": "stream",
     "text": [
      "Sofa JENNY 3 Sitzplätze\n",
      "Sofa JENNY 3 Sitzplätze\n",
      "Sofa JENNY 4 Sitzplätze\n",
      "Sofa JENNY 4 Sitzplätze\n",
      "Cord Sofa 2 sitzer Rouen\n",
      "3-Sitzer Sofa CHARLIE\n",
      "Esszimmerstuhl Jenny (2er Set)\n",
      "Sofa L Form James 38767\n",
      "Esszimmerstuhl JENNY\n",
      "Ecksofa reversibel aus Stoff \"Gabby\" - 3\n"
     ]
    }
   ],
   "execution_count": 4
  }
 ],
 "metadata": {
  "kernelspec": {
   "display_name": "Python 3",
   "language": "python",
   "name": "python3"
  },
  "language_info": {
   "codemirror_mode": {
    "name": "ipython",
    "version": 2
   },
   "file_extension": ".py",
   "mimetype": "text/x-python",
   "name": "python",
   "nbconvert_exporter": "python",
   "pygments_lexer": "ipython2",
   "version": "2.7.6"
  }
 },
 "nbformat": 4,
 "nbformat_minor": 5
}

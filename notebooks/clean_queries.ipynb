{
 "cells": [
  {
   "cell_type": "code",
   "id": "initial_id",
   "metadata": {
    "collapsed": true,
    "ExecuteTime": {
     "end_time": "2025-04-16T17:08:49.239095Z",
     "start_time": "2025-04-16T17:08:47.164272Z"
    }
   },
   "source": [
    "import json\n",
    "from app.constants import HEADERS\n",
    "\n",
    "\n",
    "category_to_id = {\n",
    "    \"sofa-couch\": \"156318\",\n",
    "    \"kueche-moebel\": \"156182\",\n",
    "    \"innenleuchte\": \"177561\"\n",
    "}\n",
    "\n",
    "variables = {\n",
    "  \"urlParams\": \"query=sofa+JENNY\",\n",
    "  \"locale\": \"de_DE\",\n",
    "  \"first\": 10,\n",
    "  \"offset\": 0,\n",
    "  \"format\": \"WEBP\",\n",
    "  \"userIP\": \"91.247.57.116\",\n",
    "  \"userAgent\": \"Mozilla/5.0 (X11; Linux x86_64) AppleWebKit/537.36 (KHTML, like Gecko) Chrome/134.0.0.0 Safari/537.36\",\n",
    "  \"thirdPartyClientId\": \"513f27b4-8ee9-4575-9be6-73fde4f39cd8\",\n",
    "  \"thirdPartySessionId\": \"3\",\n",
    "  \"backend\": \"ThirdParty\",\n",
    "  \"query\": \"sofa JENNY\"\n",
    "}\n",
    "\n",
    "\n",
    "extensions = {\n",
    "  \"persistedQuery\": {\n",
    "    \"version\": 1,\n",
    "    \"sha256Hash\": \"49a969c017878e1a0bf0c6db3b8cc470fe096fb20dbe8dbba75130de498bfb94\",\n",
    "  }\n",
    "}\n",
    "\n",
    "compact_variables = json.dumps(variables, separators=(',', ':'))\n",
    "compact_extensions = json.dumps(extensions, separators=(',', ':'))\n",
    "\n",
    "\n",
    "import requests\n",
    "from urllib.parse import quote\n",
    "\n",
    "BASE_URL = \"https://www.home24.de\"\n",
    "url = f\"{BASE_URL}/graphql?extensions={quote(compact_extensions)}&variables={quote(compact_variables)}\"\n",
    "\n",
    "\n",
    "response = requests.get(url,headers=HEADERS,)\n",
    "\n",
    "print(response.status_code)"
   ],
   "outputs": [
    {
     "name": "stdout",
     "output_type": "stream",
     "text": [
      "200\n"
     ]
    }
   ],
   "execution_count": 1
  },
  {
   "metadata": {
    "ExecuteTime": {
     "end_time": "2025-04-16T17:11:20.421301Z",
     "start_time": "2025-04-16T17:11:20.417054Z"
    }
   },
   "cell_type": "code",
   "source": [
    "print(variables)\n",
    "print(extensions)"
   ],
   "id": "9d14a8f0566dcded",
   "outputs": [
    {
     "name": "stdout",
     "output_type": "stream",
     "text": [
      "{'urlParams': 'query=sofa+JENNY', 'locale': 'de_DE', 'first': 10, 'offset': 0, 'format': 'WEBP', 'userIP': '91.247.57.116', 'userAgent': 'Mozilla/5.0 (X11; Linux x86_64) AppleWebKit/537.36 (KHTML, like Gecko) Chrome/134.0.0.0 Safari/537.36', 'thirdPartyClientId': '513f27b4-8ee9-4575-9be6-73fde4f39cd8', 'thirdPartySessionId': '3', 'backend': 'ThirdParty', 'query': 'sofa JENNY'}\n",
      "{'persistedQuery': {'version': 1, 'sha256Hash': '49a969c017878e1a0bf0c6db3b8cc470fe096fb20dbe8dbba75130de498bfb94'}}\n"
     ]
    }
   ],
   "execution_count": 5
  },
  {
   "metadata": {
    "ExecuteTime": {
     "end_time": "2025-04-16T17:09:53.704658Z",
     "start_time": "2025-04-16T17:09:53.696449Z"
    }
   },
   "cell_type": "code",
   "source": [
    "\n",
    "#pprint(response.json()[\"data\"][\"categories\"][\"articles\"])\n",
    "\n",
    "for article in response.json()[\"data\"][\"categories\"][\"articles\"]:\n",
    "    print(article[\"name\"])"
   ],
   "id": "aff945ee998ace43",
   "outputs": [
    {
     "name": "stdout",
     "output_type": "stream",
     "text": [
      "Sofa JENNY 3 Sitzplätze\n",
      "Sofa JENNY 3 Sitzplätze\n",
      "Sofa JENNY 4 Sitzplätze\n",
      "Sofa JENNY 4 Sitzplätze\n",
      "Cord Sofa 2 sitzer Rouen\n",
      "3-Sitzer Sofa CHARLIE\n",
      "Esszimmerstuhl Jenny (2er Set)\n",
      "Sofa L Form James 38767\n",
      "Esszimmerstuhl JENNY\n",
      "Ecksofa reversibel aus Stoff \"Gabby\" - 3\n"
     ]
    }
   ],
   "execution_count": 4
  }
 ],
 "metadata": {
  "kernelspec": {
   "display_name": "Python 3",
   "language": "python",
   "name": "python3"
  },
  "language_info": {
   "codemirror_mode": {
    "name": "ipython",
    "version": 2
   },
   "file_extension": ".py",
   "mimetype": "text/x-python",
   "name": "python",
   "nbconvert_exporter": "python",
   "pygments_lexer": "ipython2",
   "version": "2.7.6"
  }
 },
 "nbformat": 4,
 "nbformat_minor": 5
}
